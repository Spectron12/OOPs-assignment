{
  "nbformat": 4,
  "nbformat_minor": 0,
  "metadata": {
    "colab": {
      "provenance": []
    },
    "kernelspec": {
      "name": "python3",
      "display_name": "Python 3"
    },
    "language_info": {
      "name": "python"
    }
  },
  "cells": [
    {
      "cell_type": "markdown",
      "source": [
        "# **Theory Questions:**\n",
        "\n",
        "---\n",
        "\n"
      ],
      "metadata": {
        "id": "uZ2VxQHvp7TZ"
      }
    },
    {
      "cell_type": "markdown",
      "source": [
        "1.  What is Object-Oriented Programming (OOP)?\n",
        "- OOP stands for Object-Oriented Programming. It's a way of writing code by creating \"objects\" that represent real-world things. Each object has data (like a car’s color or speed) and actions it can do (like drive or stop). You create a class as a blueprint, and then make objects from it. It helps keep your code clean, reusable, and easier to understand."
      ],
      "metadata": {
        "id": "zz-CYmdJqGtw"
      }
    },
    {
      "cell_type": "markdown",
      "source": [
        "2. What is a class in OOP?\n",
        "- A class is like a blueprint or template for creating objects. It defines what data (called attributes) and what actions (called methods) the object will have. For example, a Car class might have attributes like color and speed, and methods like drive() or brake(). But the class itself isn’t a real car—it’s just the idea. You make real objects (like your own car) from that class."
      ],
      "metadata": {
        "id": "KRewOVnPqfTA"
      }
    },
    {
      "cell_type": "markdown",
      "source": [
        "3. What is an object in OOP?\n",
        "- An object is a real instance of a class—it’s like bringing the blueprint to life. If Car is the class, then my_car = Car() creates an object. This object has its own values for the class attributes (like color = \"red\") and can use the class methods (like my_car.drive()). You can create many different objects from the same class, each with their own unique data\n",
        "\n",
        "\n"
      ],
      "metadata": {
        "id": "vdp_7huEqoVg"
      }
    },
    {
      "cell_type": "markdown",
      "source": [
        "4.  What is the difference between abstraction and encapsulation?\n",
        "- Abstraction is about hiding the complex stuff and showing only what’s necessary. Like when you drive a car—you use the steering wheel without knowing how the engine works.\n",
        "\n",
        " Encapsulation is about wrapping data and code together, and restricting direct access to some parts. It protects the internal state by using private variables and methods.\n",
        "\n",
        "    In short:\n",
        "    Abstraction hides complexity,\n",
        "    Encapsulation hides internal details for security and control."
      ],
      "metadata": {
        "id": "0GAnxJknq5AA"
      }
    },
    {
      "cell_type": "markdown",
      "source": [
        "5. What are dunder methods in Python?\n",
        "-> Dunder methods (short for “double underscore” methods) are special methods in Python that start and end with double underscores, like __init__, __str__, __len__, etc.\n",
        "\n",
        "They let you define how your objects behave with built-in functions and operators. For example:\n",
        "\n",
        "* __init__ sets up an object when it’s created.\n",
        "* __str__ controls how the object looks when printed.\n",
        "* __add__ lets you use + with your objects.\n",
        "They make your objects act more like built-in Python types."
      ],
      "metadata": {
        "id": "YDj68psDrGTA"
      }
    },
    {
      "cell_type": "markdown",
      "source": [
        "6. Explain the concept of inheritance in OOP.\n",
        "- Inheritance in OOP lets a class (child) use the properties and methods of another class (parent). It helps you reuse code and avoid repetition.\n",
        "\n",
        " For example, if you have a Vehicle class, you can create a Car class that inherits from it. Now Car automatically gets all the features of Vehicle, and you can also add more specific ones just for Car.\n",
        "\n",
        " It’s like a child inheriting traits from their parents, plus having their own uniqueness."
      ],
      "metadata": {
        "id": "aeRHULjVruig"
      }
    },
    {
      "cell_type": "markdown",
      "source": [
        "7. What is polymorphism in OOP?\n",
        "-> Polymorphism means \"many forms\"—it lets different classes use the same method name, but with different behaviors.\n",
        "\n",
        "For example, both Dog and Cat classes can have a method called speak(), but Dog.speak() might return \"Woof!\" while Cat.speak() returns \"Meow!\". You can call speak() without knowing the exact class, and it’ll still work right.\n",
        "\n",
        "It makes your code flexible and easier to extend."
      ],
      "metadata": {
        "id": "C0pun7e5r5V4"
      }
    },
    {
      "cell_type": "markdown",
      "source": [
        "8.  How is encapsulation achieved in Python?\n",
        "- Encapsulation in Python is achieved by keeping data (variables) private and controlling access through methods.\n",
        "\n",
        "You do this by:\n",
        "\n",
        "* Using underscores: _var (protected) or __var (private).\n",
        "\n",
        "* Providing getter and setter methods to access or modify private data safely."
      ],
      "metadata": {
        "id": "BZxDXV99sFIY"
      }
    },
    {
      "cell_type": "code",
      "source": [
        "class Person:\n",
        "    def __init__(self, name):\n",
        "        self.__name = name  # private\n",
        "\n",
        "    def get_name(self):\n",
        "        return self.__name\n",
        "\n",
        "    def set_name(self, new_name):\n",
        "        self.__name = new_name\n"
      ],
      "metadata": {
        "id": "fF4M-dYpsULI"
      },
      "execution_count": null,
      "outputs": []
    },
    {
      "cell_type": "markdown",
      "source": [
        "9.  What is a constructor in Python?\n",
        "- A constructor in Python is a special method called __init__() that runs automatically when you create an object from a class.\n",
        "\n",
        "It’s used to set up (initialize) the object with default or user-given values."
      ],
      "metadata": {
        "id": "t4_wz4KxsX2o"
      }
    },
    {
      "cell_type": "code",
      "source": [
        "class Person:\n",
        "    def __init__(self, name):\n",
        "        self.name = name\n",
        "\n",
        "p1 = Person(\"Alice\")  # __init__ runs here\n"
      ],
      "metadata": {
        "id": "GsP2dTV_soiQ"
      },
      "execution_count": null,
      "outputs": []
    },
    {
      "cell_type": "markdown",
      "source": [
        "10.  What are class and static methods in Python?\n",
        "\n",
        "-  Class methods and static methods are special types of methods in Python, defined using decorators.\n",
        "\n",
        "i. Class method:\n",
        "\n",
        "* Defined with @classmethod.\n",
        "\n",
        "* Takes cls as the first argument (refers to the class).\n",
        "\n",
        "* Can access or modify class-level data.\n",
        "\n",
        "ii. Static method:\n",
        "\n",
        "* Defined with @staticmethod.\n",
        "\n",
        "* Doesn’t take self or cls.\n",
        "\n",
        "* Acts like a regular function inside the class—used for utility tasks.\n",
        "\n",
        "They both don’t rely on an instance (self) to work."
      ],
      "metadata": {
        "id": "q4ALCacbsq54"
      }
    },
    {
      "cell_type": "markdown",
      "source": [
        "11.  What is method overloading in Python?\n",
        "- Method overloading means having multiple methods with the same name but different arguments.\n",
        "Python doesn't support true method overloading like some other languages. Instead, you can use default values or *args to handle different numbers of arguments in one method"
      ],
      "metadata": {
        "id": "b5aDcic_tFrw"
      }
    },
    {
      "cell_type": "markdown",
      "source": [
        "12.  What is method overriding in OOP?\n",
        "- Method overriding happens when a child class defines a method with the same name as a method in its parent class, but changes how it works.\n",
        "\n",
        "It lets you customize or replace the parent’s behavior."
      ],
      "metadata": {
        "id": "Rjowp6-ZtT7I"
      }
    },
    {
      "cell_type": "code",
      "source": [
        "class Animal:\n",
        "    def speak(self):\n",
        "        print(\"Animal speaks\")\n",
        "\n",
        "class Dog(Animal):\n",
        "    def speak(self):\n",
        "        print(\"Dog barks\")\n"
      ],
      "metadata": {
        "id": "ranL_ZJOtjYV"
      },
      "execution_count": 1,
      "outputs": []
    },
    {
      "cell_type": "markdown",
      "source": [
        "Now,if i  call speak() on a Dog object, it uses the child version, not the parent's."
      ],
      "metadata": {
        "id": "oOnuOjnDtml4"
      }
    },
    {
      "cell_type": "markdown",
      "source": [
        "13.  What is a property decorator in Python?\n",
        "- The @property decorator in Python is used to turn a method into a read-only attribute.\n",
        "It lets you access a method like a variable, without using parentheses"
      ],
      "metadata": {
        "id": "6bbAc1JUtumH"
      }
    },
    {
      "cell_type": "markdown",
      "source": [
        "14. Why is polymorphism important in OOP?\n",
        "- Polymorphism is important in OOP because it allows objects of different classes to be treated through a common interface. It enhances flexibility and maintainability by enabling one function to work with different types of objects. This makes the code more scalable, reusable, and easier to extend without modifying existing code."
      ],
      "metadata": {
        "id": "7kA51D09t8bw"
      }
    },
    {
      "cell_type": "markdown",
      "source": [
        "15. What is an abstract class in Python?\n",
        "- An abstract class in Python is a class that cannot be instantiated and is meant to be inherited by other classes. It can have abstract methods, which are defined but not implemented. These methods must be implemented by any subclass. Abstract classes are used to define a common interface for a group of related classes."
      ],
      "metadata": {
        "id": "Xi5_5Es9uXoH"
      }
    },
    {
      "cell_type": "markdown",
      "source": [
        "16. What are the advantages of OOP?\n",
        "-> The advantages of OOP are:\n",
        "\n",
        "* Modularity – Code is organized into classes, making it easier to manage.\n",
        "\n",
        "* Reusability – Classes can be reused across programs using inheritance.\n",
        "\n",
        "* Scalability – Easier to expand and maintain large projects.\n",
        "\n",
        "* Encapsulation – Protects data and reduces system complexity.\n",
        "\n",
        "* Polymorphism – Allows flexibility through a common interface."
      ],
      "metadata": {
        "id": "Wq41shfYulKn"
      }
    },
    {
      "cell_type": "markdown",
      "source": [
        "17.  What is the difference between a class variable and an instance variable?\n",
        "-> A class variable is shared by all objects of a class, while an instance variable is unique to each object.\n",
        "\n",
        "    Class variables are defined at the class level and have the same value for every instance unless explicitly changed.\n",
        "    Instance variables are defined inside the constructor and hold data specific to that object."
      ],
      "metadata": {
        "id": "2HN4gunXuxQn"
      }
    },
    {
      "cell_type": "markdown",
      "source": [
        "18. What is multiple inheritance in Python?\n",
        "- Multiple inheritance in Python is when a class inherits from more than one parent class. It allows the child class to access attributes and methods from all its parent classes. This provides greater flexibility but can also lead to complexity, especially in cases where parent classes have methods with the same name."
      ],
      "metadata": {
        "id": "fUhSt52_u_vX"
      }
    },
    {
      "cell_type": "markdown",
      "source": [
        "19. Explain the purpose of ‘’__str__’ and ‘__repr__’ ‘ methods in Python.\n",
        "- The __str__ method is used to return a user-friendly string representation of an object, mainly for display purposes.\n",
        "- The __repr__ method is used to return an unambiguous string that is meant for developers and debugging—it should ideally return a string that could recreate the object.\n",
        "\n",
        "- If __str__ is not defined, Python uses __repr__ as a fallback.\n"
      ],
      "metadata": {
        "id": "xOmnAhgYvNcQ"
      }
    },
    {
      "cell_type": "markdown",
      "source": [
        "20. What is the significance of the ‘super()’ function in Python?\n",
        "- The super() function in Python is used to call methods from a parent class inside a child class. It allows access to the parent’s methods without explicitly naming the parent class, making the code more maintainable and supporting multiple inheritance. It's commonly used in constructors to initialize the parent part of a child object."
      ],
      "metadata": {
        "id": "CO1ZJ3dkves3"
      }
    },
    {
      "cell_type": "markdown",
      "source": [
        "21.   What is the significance of the __del__ method in Python?\n",
        "- The __del__ method in Python is a destructor method that is called when an object is about to be destroyed. Its main purpose is to perform cleanup tasks, like closing files or releasing resources. However, its use is discouraged in many cases because the exact time of object destruction is not guaranteed due to Python's garbage collection."
      ],
      "metadata": {
        "id": "c5uOtj0WvnZn"
      }
    },
    {
      "cell_type": "markdown",
      "source": [
        "22. What is the difference between @staticmethod and @classmethod in Python?\n",
        "- The @staticmethod defines a method that does not take self or cls as its first argument and cannot access or modify class or instance data. It behaves like a regular function inside the class.\n",
        "The @classmethod takes cls as its first argument and can access or modify class-level data. It works with the class itself, not with instance-specific data"
      ],
      "metadata": {
        "id": "59DnicbIv7IP"
      }
    },
    {
      "cell_type": "markdown",
      "source": [
        "23. How does polymorphism work in Python with inheritance ?\n",
        "- Polymorphism in Python with inheritance works by allowing a child class to override methods from its parent class. When an object of the child class is used, the overridden method is called, even if the object is referenced using the parent class. This enables different classes to define the same method name with behavior specific to each class, supporting flexibility and dynamic method resolution."
      ],
      "metadata": {
        "id": "2ZF4uB5FwIaf"
      }
    },
    {
      "cell_type": "markdown",
      "source": [
        "24. What is method chaining in Python OOP?\n",
        "- Method chaining in Python OOP is a technique where multiple methods are called on the same object in a single line. This is possible when each method returns the object itself (self). It improves code readability and allows a sequence of operations to be performed fluently on an object."
      ],
      "metadata": {
        "id": "F82q2OGLwNo_"
      }
    },
    {
      "cell_type": "markdown",
      "source": [
        "25. What is the purpose of the __call__ method in Python?\n",
        "- The __call__ method in Python allows an object to be called like a function. When defined in a class, it lets instances of that class behave like callable functions. This is useful for creating objects that need to maintain state and also act like functions, enabling more flexible and intuitive interfaces."
      ],
      "metadata": {
        "id": "sabcBxZMwWAv"
      }
    },
    {
      "cell_type": "markdown",
      "source": [
        "# **Practical Question**\n",
        "\n",
        "---\n",
        "\n"
      ],
      "metadata": {
        "id": "54XRl8pBwenn"
      }
    },
    {
      "cell_type": "markdown",
      "source": [
        "1. Create a parent class Animal with a method speak() that prints a generic message. Create a child class Dog\n",
        "that overrides the speak() method to print \"Bark!\""
      ],
      "metadata": {
        "id": "9EEIzDnGxBXP"
      }
    },
    {
      "cell_type": "code",
      "source": [
        "class Animal:\n",
        "    def speak(self):\n",
        "        print(\"Animal speaks\")\n",
        "\n",
        "class Dog(Animal):\n",
        "    def speak(self):\n",
        "        print(\"Bark!\")\n",
        "\n",
        "# Example usage:\n",
        "a = Animal()\n",
        "a.speak()   # Output: Animal speaks\n",
        "\n",
        "d = Dog()\n",
        "d.speak()   # Output: Bark!\n"
      ],
      "metadata": {
        "colab": {
          "base_uri": "https://localhost:8080/"
        },
        "id": "yERTDqhJxEFI",
        "outputId": "0ce4e90c-564d-4a80-a775-07e527180a03"
      },
      "execution_count": 2,
      "outputs": [
        {
          "output_type": "stream",
          "name": "stdout",
          "text": [
            "Animal speaks\n",
            "Bark!\n"
          ]
        }
      ]
    },
    {
      "cell_type": "markdown",
      "source": [
        "2. Write a program to create an abstract class Shape with a method area(). Derive classes Circle and Rectangle\n",
        "from it and implement the area() method in both"
      ],
      "metadata": {
        "id": "PKspcKY3xH9P"
      }
    },
    {
      "cell_type": "code",
      "source": [
        "from abc import ABC, abstractmethod\n",
        "\n",
        "class Shape(ABC):\n",
        "    @abstractmethod\n",
        "    def area(self):\n",
        "        pass\n",
        "\n",
        "class Circle(Shape):\n",
        "    def __init__(self, radius):\n",
        "        self.radius = radius\n",
        "\n",
        "    def area(self):\n",
        "        return 3.14 * self.radius ** 2\n",
        "\n",
        "class Rectangle(Shape):\n",
        "    def __init__(self, length, width):\n",
        "        self.length = length\n",
        "        self.width = width\n",
        "\n",
        "    def area(self):\n",
        "        return self.length * self.width\n",
        "\n",
        "# Example usage:\n",
        "c = Circle(5)\n",
        "print(\"Circle Area:\", c.area())\n",
        "\n",
        "r = Rectangle(4, 6)\n",
        "print(\"Rectangle Area:\", r.area())\n"
      ],
      "metadata": {
        "id": "mhtVpbf9xOuP"
      },
      "execution_count": null,
      "outputs": []
    },
    {
      "cell_type": "markdown",
      "source": [
        "3. Implement a multi-level inheritance scenario where a class Vehicle has an attribute type. Derive a class Car\n",
        "and further derive a class ElectricCar that adds a battery attribute"
      ],
      "metadata": {
        "id": "_sT1gTJ9xejP"
      }
    },
    {
      "cell_type": "code",
      "source": [
        "class Vehicle:\n",
        "    def __init__(self, vehicle_type):\n",
        "        self.type = vehicle_type\n",
        "\n",
        "class Car(Vehicle):\n",
        "    def __init__(self, vehicle_type, brand):\n",
        "        super().__init__(vehicle_type)\n",
        "        self.brand = brand\n",
        "\n",
        "class ElectricCar(Car):\n",
        "    def __init__(self, vehicle_type, brand, battery):\n",
        "        super().__init__(vehicle_type, brand)\n",
        "        self.battery = battery\n",
        "\n",
        "# Example usage:\n",
        "e_car = ElectricCar(\"Four Wheeler\", \"Tesla\", \"100 kWh\")\n",
        "print(\"Type:\", e_car.type)\n",
        "print(\"Brand:\", e_car.brand)\n",
        "print(\"Battery:\", e_car.battery)\n"
      ],
      "metadata": {
        "colab": {
          "base_uri": "https://localhost:8080/"
        },
        "id": "SJmM6Ri1xeIH",
        "outputId": "1afbc47e-b338-44ae-85b7-29e9ec7817ec"
      },
      "execution_count": 3,
      "outputs": [
        {
          "output_type": "stream",
          "name": "stdout",
          "text": [
            "Type: Four Wheeler\n",
            "Brand: Tesla\n",
            "Battery: 100 kWh\n"
          ]
        }
      ]
    },
    {
      "cell_type": "markdown",
      "source": [
        "4. Demonstrate polymorphism by creating a base class Bird with a method fly(). Create two derived classes\n",
        "Sparrow and Penguin that override the fly() method."
      ],
      "metadata": {
        "id": "a5G7dFYSxk13"
      }
    },
    {
      "cell_type": "code",
      "source": [
        "class Bird:\n",
        "    def fly(self):\n",
        "        print(\"Bird is flying\")\n",
        "\n",
        "class Sparrow(Bird):\n",
        "    def fly(self):\n",
        "        print(\"Sparrow flies high\")\n",
        "\n",
        "class Penguin(Bird):\n",
        "    def fly(self):\n",
        "        print(\"Penguins cannot fly\")\n",
        "\n",
        "# Example usage:\n",
        "birds = [Sparrow(), Penguin()]\n",
        "\n",
        "for bird in birds:\n",
        "    bird.fly()\n"
      ],
      "metadata": {
        "colab": {
          "base_uri": "https://localhost:8080/"
        },
        "id": "XS0guDy_xthP",
        "outputId": "007118d2-7559-4554-c67f-27c4c629afb2"
      },
      "execution_count": 4,
      "outputs": [
        {
          "output_type": "stream",
          "name": "stdout",
          "text": [
            "Sparrow flies high\n",
            "Penguins cannot fly\n"
          ]
        }
      ]
    },
    {
      "cell_type": "markdown",
      "source": [
        "5. Write a program to demonstrate encapsulation by creating a class BankAccount with private attributes\n",
        "balance and methods to deposit, withdraw, and check balance"
      ],
      "metadata": {
        "id": "qOuPRtgExwMP"
      }
    },
    {
      "cell_type": "code",
      "source": [
        "class BankAccount:\n",
        "    def __init__(self, initial_balance):\n",
        "        self.__balance = initial_balance\n",
        "\n",
        "    def deposit(self, amount):\n",
        "        if amount > 0:\n",
        "            self.__balance += amount\n",
        "\n",
        "    def withdraw(self, amount):\n",
        "        if 0 < amount <= self.__balance:\n",
        "            self.__balance -= amount\n",
        "        else:\n",
        "            print(\"Insufficient balance\")\n",
        "\n",
        "    def check_balance(self):\n",
        "        return self.__balance\n",
        "\n",
        "# Example usage:\n",
        "acc = BankAccount(1000)\n",
        "acc.deposit(500)\n",
        "acc.withdraw(300)\n",
        "print(\"Current Balance:\", acc.check_balance())\n"
      ],
      "metadata": {
        "colab": {
          "base_uri": "https://localhost:8080/"
        },
        "id": "8uLT_zrcx3RX",
        "outputId": "4443b655-a7df-4043-d746-3c4eac63f514"
      },
      "execution_count": 5,
      "outputs": [
        {
          "output_type": "stream",
          "name": "stdout",
          "text": [
            "Current Balance: 1200\n"
          ]
        }
      ]
    },
    {
      "cell_type": "markdown",
      "source": [
        "6.  Demonstrate runtime polymorphism using a method play() in a base class Instrument. Derive classes Guitar\n",
        "and Piano that implement their own version of play()."
      ],
      "metadata": {
        "id": "t30C7yYgx5Fn"
      }
    },
    {
      "cell_type": "code",
      "source": [
        "class Instrument:\n",
        "    def play(self):\n",
        "        print(\"Playing an instrument\")\n",
        "\n",
        "class Guitar(Instrument):\n",
        "    def play(self):\n",
        "        print(\"Strumming the guitar\")\n",
        "\n",
        "class Piano(Instrument):\n",
        "    def play(self):\n",
        "        print(\"Playing the piano\")\n",
        "\n",
        "# Example usage:\n",
        "instruments = [Guitar(), Piano()]\n",
        "\n",
        "for instrument in instruments:\n",
        "    instrument.play()\n"
      ],
      "metadata": {
        "colab": {
          "base_uri": "https://localhost:8080/"
        },
        "id": "5ijUhAABx-yf",
        "outputId": "417ca539-59cc-4e39-8c55-3af375afbb2b"
      },
      "execution_count": 6,
      "outputs": [
        {
          "output_type": "stream",
          "name": "stdout",
          "text": [
            "Strumming the guitar\n",
            "Playing the piano\n"
          ]
        }
      ]
    },
    {
      "cell_type": "markdown",
      "source": [
        "7. Create a class MathOperations with a class method add_numbers() to add two numbers and a static\n",
        "method subtract_numbers() to subtract two numbers"
      ],
      "metadata": {
        "id": "ZEbHPim_yFT_"
      }
    },
    {
      "cell_type": "code",
      "source": [
        "class MathOperations:\n",
        "    @classmethod\n",
        "    def add_numbers(cls, a, b):\n",
        "        return a + b\n",
        "\n",
        "    @staticmethod\n",
        "    def subtract_numbers(a, b):\n",
        "        return a - b\n",
        "\n",
        "# Example usage:\n",
        "print(\"Addition:\", MathOperations.add_numbers(10, 5))\n",
        "print(\"Subtraction:\", MathOperations.subtract_numbers(10, 5))\n"
      ],
      "metadata": {
        "colab": {
          "base_uri": "https://localhost:8080/"
        },
        "id": "MhH9SScayLBH",
        "outputId": "dcb6457f-8eef-4cb0-cab0-e06aaee8482d"
      },
      "execution_count": 7,
      "outputs": [
        {
          "output_type": "stream",
          "name": "stdout",
          "text": [
            "Addition: 15\n",
            "Subtraction: 5\n"
          ]
        }
      ]
    },
    {
      "cell_type": "markdown",
      "source": [
        "8. Implement a class Person with a class method to count the total number of persons created."
      ],
      "metadata": {
        "id": "dr_uCxqeyNYf"
      }
    },
    {
      "cell_type": "code",
      "source": [
        "class Person:\n",
        "    count = 0\n",
        "\n",
        "    def __init__(self, name):\n",
        "        self.name = name\n",
        "        Person.count += 1\n",
        "\n",
        "    @classmethod\n",
        "    def total_persons(cls):\n",
        "        return cls.count\n",
        "\n",
        "# Example usage:\n",
        "p1 = Person(\"Alice\")\n",
        "p2 = Person(\"Bob\")\n",
        "print(\"Total Persons:\", Person.total_persons())\n"
      ],
      "metadata": {
        "colab": {
          "base_uri": "https://localhost:8080/"
        },
        "id": "iSgM4D8WyR2n",
        "outputId": "79cb9799-4c0e-4526-aba1-d7a1c2286177"
      },
      "execution_count": 11,
      "outputs": [
        {
          "output_type": "stream",
          "name": "stdout",
          "text": [
            "Total Persons: 2\n"
          ]
        }
      ]
    },
    {
      "cell_type": "markdown",
      "source": [
        "9.  Write a class Fraction with attributes numerator and denominator. Override the str method to display the\n",
        "fraction as \"numerator/denominator\"."
      ],
      "metadata": {
        "id": "quDbRnd2yWJ_"
      }
    },
    {
      "cell_type": "code",
      "source": [
        "class Fraction:\n",
        "    def __init__(self, numerator, denominator):\n",
        "        self.numerator = numerator\n",
        "        self.denominator = denominator\n",
        "\n",
        "    def __str__(self):\n",
        "        return f\"{self.numerator}/{self.denominator}\"\n",
        "\n",
        "# Example usage:\n",
        "f = Fraction(3, 4)\n",
        "print(f)\n"
      ],
      "metadata": {
        "colab": {
          "base_uri": "https://localhost:8080/"
        },
        "id": "YJ_-F5NxyXZ_",
        "outputId": "fd19694c-29f1-46ba-e48a-b5220e189c58"
      },
      "execution_count": 12,
      "outputs": [
        {
          "output_type": "stream",
          "name": "stdout",
          "text": [
            "3/4\n"
          ]
        }
      ]
    },
    {
      "cell_type": "markdown",
      "source": [
        "10. . Demonstrate operator overloading by creating a class Vector and overriding the add method to add two\n",
        "vectors"
      ],
      "metadata": {
        "id": "I3EmOXVWyZi_"
      }
    },
    {
      "cell_type": "code",
      "source": [
        "class Vector:\n",
        "    def __init__(self, x, y):\n",
        "        self.x = x\n",
        "        self.y = y\n",
        "\n",
        "    def __add__(self, other):\n",
        "        return Vector(self.x + other.x, self.y + other.y)\n",
        "\n",
        "    def __str__(self):\n",
        "        return f\"Vector({self.x}, {self.y})\"\n",
        "\n",
        "# Example usage:\n",
        "v1 = Vector(2, 3)\n",
        "v2 = Vector(4, 5)\n",
        "v3 = v1 + v2\n",
        "print(v3)\n"
      ],
      "metadata": {
        "colab": {
          "base_uri": "https://localhost:8080/"
        },
        "id": "YMGAzF6LyhWf",
        "outputId": "649f45c8-fff0-4c52-e0a3-653f4d93f85e"
      },
      "execution_count": 13,
      "outputs": [
        {
          "output_type": "stream",
          "name": "stdout",
          "text": [
            "Vector(6, 8)\n"
          ]
        }
      ]
    },
    {
      "cell_type": "markdown",
      "source": [
        "11. Create a class Person with attributes name and age. Add a method greet() that prints \"Hello, my name is\n",
        "{name} and I am {age} years old.\""
      ],
      "metadata": {
        "id": "DdLrz5hYyj53"
      }
    },
    {
      "cell_type": "code",
      "source": [
        "class Person:\n",
        "    def __init__(self, name, age):\n",
        "        self.name = name\n",
        "        self.age = age\n",
        "\n",
        "    def greet(self):\n",
        "        print(f\"Hello, my name is {self.name} and I am {self.age} years old.\")\n",
        "\n",
        "# Example usage:\n",
        "p = Person(\"Alice\", 25)\n",
        "p.greet()\n"
      ],
      "metadata": {
        "colab": {
          "base_uri": "https://localhost:8080/"
        },
        "id": "ywr8NOcJyo7v",
        "outputId": "964e58d4-3f6f-4ab4-dd18-fa9bac5e43aa"
      },
      "execution_count": 14,
      "outputs": [
        {
          "output_type": "stream",
          "name": "stdout",
          "text": [
            "Hello, my name is Alice and I am 25 years old.\n"
          ]
        }
      ]
    },
    {
      "cell_type": "markdown",
      "source": [
        "12.  Implement a class Student with attributes name and grades. Create a method average_grade() to compute\n",
        "the average of the grades"
      ],
      "metadata": {
        "id": "ahI7_frnyvM3"
      }
    },
    {
      "cell_type": "code",
      "source": [
        "class Student:\n",
        "    def __init__(self, name, grades):\n",
        "        self.name = name\n",
        "        self.grades = grades\n",
        "\n",
        "    def average_grade(self):\n",
        "        return sum(self.grades) / len(self.grades)\n",
        "\n",
        "# Example usage:\n",
        "s = Student(\"John\", [85, 90, 78])\n",
        "print(\"Average Grade:\", s.average_grade())\n"
      ],
      "metadata": {
        "id": "X4gacGlly1QH"
      },
      "execution_count": null,
      "outputs": []
    },
    {
      "cell_type": "markdown",
      "source": [
        "13.  Create a class Rectangle with methods set_dimensions() to set the dimensions and area() to calculate the\n",
        "area"
      ],
      "metadata": {
        "id": "357_uXBVy3x3"
      }
    },
    {
      "cell_type": "code",
      "source": [
        "class Rectangle:\n",
        "    def set_dimensions(self, length, width):\n",
        "        self.length = length\n",
        "        self.width = width\n",
        "\n",
        "    def area(self):\n",
        "        return self.length * self.width\n",
        "\n",
        "# Example usage:\n",
        "r = Rectangle()\n",
        "r.set_dimensions(5, 3)\n",
        "print(\"Area:\", r.area())\n"
      ],
      "metadata": {
        "colab": {
          "base_uri": "https://localhost:8080/"
        },
        "id": "vSE0y07ny9xv",
        "outputId": "f17fa2ce-4d4a-45e7-83ca-8b3bfe50185c"
      },
      "execution_count": 15,
      "outputs": [
        {
          "output_type": "stream",
          "name": "stdout",
          "text": [
            "Area: 15\n"
          ]
        }
      ]
    },
    {
      "cell_type": "markdown",
      "source": [
        "14. Create a class Employee with a method calculate_salary() that computes the salary based on hours worked\n",
        "and hourly rate. Create a derived class Manager that adds a bonus to the salary"
      ],
      "metadata": {
        "id": "qjPQAdytzATH"
      }
    },
    {
      "cell_type": "code",
      "source": [
        "class Employee:\n",
        "    def __init__(self, hours_worked, hourly_rate):\n",
        "        self.hours_worked = hours_worked\n",
        "        self.hourly_rate = hourly_rate\n",
        "\n",
        "    def calculate_salary(self):\n",
        "        return self.hours_worked * self.hourly_rate\n",
        "\n",
        "class Manager(Employee):\n",
        "    def __init__(self, hours_worked, hourly_rate, bonus):\n",
        "        super().__init__(hours_worked, hourly_rate)\n",
        "        self.bonus = bonus\n",
        "\n",
        "    def calculate_salary(self):\n",
        "        return super().calculate_salary() + self.bonus\n",
        "\n",
        "# Example usage:\n",
        "e = Employee(40, 20)\n",
        "print(\"Employee Salary:\", e.calculate_salary())\n",
        "\n",
        "m = Manager(40, 30, 500)\n",
        "print(\"Manager Salary:\", m.calculate_salary())\n"
      ],
      "metadata": {
        "colab": {
          "base_uri": "https://localhost:8080/"
        },
        "id": "4xHCXkczzGp_",
        "outputId": "6475baaf-6306-463b-9c0d-2fe571b66fb1"
      },
      "execution_count": 16,
      "outputs": [
        {
          "output_type": "stream",
          "name": "stdout",
          "text": [
            "Employee Salary: 800\n",
            "Manager Salary: 1700\n"
          ]
        }
      ]
    },
    {
      "cell_type": "markdown",
      "source": [
        "15.  Create a class Product with attributes name, price, and quantity. Implement a method total_price() that\n",
        "calculates the total price of the product."
      ],
      "metadata": {
        "id": "tpE9r2adzI5n"
      }
    },
    {
      "cell_type": "code",
      "source": [
        "class Product:\n",
        "    def __init__(self, name, price, quantity):\n",
        "        self.name = name\n",
        "        self.price = price\n",
        "        self.quantity = quantity\n",
        "\n",
        "    def total_price(self):\n",
        "        return self.price * self.quantity\n",
        "\n",
        "# Example usage:\n",
        "p = Product(\"Laptop\", 800, 2)\n",
        "print(\"Total Price:\", p.total_price())\n"
      ],
      "metadata": {
        "id": "6Q9MboqrzM-_"
      },
      "execution_count": null,
      "outputs": []
    },
    {
      "cell_type": "markdown",
      "source": [
        "16. Create a class Animal with an abstract method sound(). Create two derived classes Cow and Sheep that\n",
        "implement the sound() method"
      ],
      "metadata": {
        "id": "7MjaqFtrzPi3"
      }
    },
    {
      "cell_type": "code",
      "source": [
        "from abc import ABC, abstractmethod\n",
        "\n",
        "class Animal(ABC):\n",
        "    @abstractmethod\n",
        "    def sound(self):\n",
        "        pass\n",
        "\n",
        "class Cow(Animal):\n",
        "    def sound(self):\n",
        "        return \"Moo\"\n",
        "\n",
        "class Sheep(Animal):\n",
        "    def sound(self):\n",
        "        return \"Baa\"\n",
        "\n",
        "# Example usage:\n",
        "c = Cow()\n",
        "s = Sheep()\n",
        "print(\"Cow sound:\", c.sound())\n",
        "print(\"Sheep sound:\", s.sound())\n"
      ],
      "metadata": {
        "colab": {
          "base_uri": "https://localhost:8080/"
        },
        "id": "M-esXcDgzWZI",
        "outputId": "c4499417-175b-400c-e210-499ac8ebf116"
      },
      "execution_count": 17,
      "outputs": [
        {
          "output_type": "stream",
          "name": "stdout",
          "text": [
            "Cow sound: Moo\n",
            "Sheep sound: Baa\n"
          ]
        }
      ]
    },
    {
      "cell_type": "markdown",
      "source": [
        "17. Create a class Book with attributes title, author, and year_published. Add a method get_book_info() that\n",
        "returns a formatted string with the book's details"
      ],
      "metadata": {
        "id": "OD4-Tgz4zYmX"
      }
    },
    {
      "cell_type": "code",
      "source": [
        "class Book:\n",
        "    def __init__(self, title, author, year_published):\n",
        "        self.title = title\n",
        "        self.author = author\n",
        "        self.year_published = year_published\n",
        "\n",
        "    def get_book_info(self):\n",
        "        return f\"'{self.title}' by {self.author}, published in {self.year_published}\"\n",
        "\n",
        "# Example usage:\n",
        "b = Book(\"1984\", \"George Orwell\", 1949)\n",
        "print(b.get_book_info())\n"
      ],
      "metadata": {
        "id": "6zw9bO7Fzknq"
      },
      "execution_count": null,
      "outputs": []
    },
    {
      "cell_type": "markdown",
      "source": [
        "18.  Create a class House with attributes address and price. Create a derived class Mansion that adds an\n",
        "attribute number_of_rooms."
      ],
      "metadata": {
        "id": "ueHxPV15zmOm"
      }
    },
    {
      "cell_type": "code",
      "source": [
        "class House:\n",
        "    def __init__(self, address, price):\n",
        "        self.address = address\n",
        "        self.price = price\n",
        "\n",
        "class Mansion(House):\n",
        "    def __init__(self, address, price, number_of_rooms):\n",
        "        super().__init__(address, price)\n",
        "        self.number_of_rooms = number_of_rooms\n",
        "\n",
        "# Example usage:\n",
        "m = Mansion(\"123 Luxury Lane\", 5000000, 12)\n",
        "print(\"Address:\", m.address)\n",
        "print(\"Price:\", m.price)\n",
        "print(\"Number of Rooms:\", m.number_of_rooms)\n"
      ],
      "metadata": {
        "colab": {
          "base_uri": "https://localhost:8080/"
        },
        "id": "qpmK4Z8YzsJP",
        "outputId": "20a579b0-7268-4a28-c4b4-7fea0141bed0"
      },
      "execution_count": 18,
      "outputs": [
        {
          "output_type": "stream",
          "name": "stdout",
          "text": [
            "Address: 123 Luxury Lane\n",
            "Price: 5000000\n",
            "Number of Rooms: 12\n"
          ]
        }
      ]
    }
  ]
}